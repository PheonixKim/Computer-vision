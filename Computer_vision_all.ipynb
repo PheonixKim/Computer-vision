{
 "cells": [
  {
   "cell_type": "code",
   "execution_count": 12,
   "metadata": {},
   "outputs": [],
   "source": [
    "# 라이브러리 가져오기\n",
    "\n",
    "import glob\n",
    "import cv2\n",
    "import numpy as np\n",
    "import tensorflow as tf\n",
    "from sklearn.decomposition import PCA\n",
    "import matplotlib.pyplot as plt\n",
    "import sys\n",
    "# mip2019쪽으로 경로를 설정해서 아래의 src 혹은 model 폴더를 사용할 수 있게 한다.\n",
    "sys.path.append('D:/mip2019')\n",
    "import src.facenet as facenet\n",
    "import src.align.detect_face as detect_face"
   ]
  },
  {
   "cell_type": "code",
   "execution_count": 2,
   "metadata": {},
   "outputs": [],
   "source": [
    "def load_image(image_path):\n",
    "    image = cv2.imread(image_path)\n",
    "    image = cv2.cvtColor(image, cv2.COLOR_BGR2RGB)\n",
    "    \n",
    "    return image"
   ]
  },
  {
   "cell_type": "code",
   "execution_count": 3,
   "metadata": {},
   "outputs": [],
   "source": [
    "def crop_faces(image,pnet,rnet,onet):\n",
    "    \n",
    "    minimize = 20\n",
    "    threshold = [0.6, 0.7,0.7]\n",
    "    factor = 0.709\n",
    "    margin = 44\n",
    "    image_size = 160\n",
    "    \n",
    "    h,w,_ = np.shape(image)\n",
    "    bounding_boxes, points = detect_face.detect_face(image, minimize, pnet, rnet, onet, threshold, factor)\n",
    "    \n",
    "    faces = []\n",
    "    for box in bounding_boxes:\n",
    "        box = np.int32(box)\n",
    "        bb = np.zeros(4, dtype=np.int32)\n",
    "        bb[0] = np.maximum(box[0]-margin/2,0)\n",
    "        bb[1] = np.maximum(box[1]-margin/2,0)\n",
    "        bb[2] = np.maximum(box[2]+margin/2,w)\n",
    "        bb[3] = np.maximum(box[3]+margin/2,h)\n",
    "        cropped = image[bb[1]:bb[3],bb[0]:bb[2],:]\n",
    "        scaled = cv2.resize(cropped, (image_size,image_size),interpolation=cv2.INTER_LINEAR)\n",
    "        faces.append(scaled)\n",
    "    return faces, bounding_boxes"
   ]
  },
  {
   "cell_type": "code",
   "execution_count": 4,
   "metadata": {},
   "outputs": [],
   "source": [
    "def load_model(pb_path, image_size=(160,160)):\n",
    "    tf.reset_default_graph()\n",
    "    \n",
    "    single_image = tf.placeholder(tf.int32, (None,None,3))\n",
    "    float_image = tf.cast(single_image,tf.float32)\n",
    "    tloat_image = float_image / 255\n",
    "    batch_image = tf.expand_dims(float_image,0)\n",
    "    resized_image = tf.image.resize(batch_image, image_size)\n",
    "    \n",
    "    phase_train = tf.placeholder_with_default(False, shape=[])\n",
    "    \n",
    "    input_map = {'image_batch':resized_image, 'phase_train':phase_train}\n",
    "    model = facenet.load_model(pb_path, input_map)\n",
    "    \n",
    "    embeddings = tf.get_default_graph().get_tensor_by_name(\"embeddings:0\")\n",
    "    \n",
    "    return single_image, embeddings"
   ]
  },
  {
   "cell_type": "code",
   "execution_count": 5,
   "metadata": {},
   "outputs": [],
   "source": [
    "def calc_distance(embedding1, embedding2):\n",
    "    # Euclidian distance\n",
    "    diff = np.subtract(embedding1, embedding2)\n",
    "    dist = np.sum(np.square(diff),0)\n",
    "    \n",
    "    return dist"
   ]
  },
  {
   "cell_type": "code",
   "execution_count": 6,
   "metadata": {},
   "outputs": [
    {
     "name": "stdout",
     "output_type": "stream",
     "text": [
      "Model filename: D:/mip2019/models/20180402-114759.pb\n",
      "WARNING:tensorflow:From D:/mip2019\\src\\facenet.py:371: FastGFile.__init__ (from tensorflow.python.platform.gfile) is deprecated and will be removed in a future version.\n",
      "Instructions for updating:\n",
      "Use tf.gfile.GFile.\n",
      "WARNING:tensorflow:From C:\\anaconda\\envs\\mip2019\\lib\\site-packages\\tensorflow\\python\\framework\\op_def_library.py:263: colocate_with (from tensorflow.python.framework.ops) is deprecated and will be removed in a future version.\n",
      "Instructions for updating:\n",
      "Colocations handled automatically by placer.\n",
      "WARNING:tensorflow:From D:/mip2019\\src\\align\\detect_face.py:213: div (from tensorflow.python.ops.math_ops) is deprecated and will be removed in a future version.\n",
      "Instructions for updating:\n",
      "Deprecated in favor of operator or tf.math.divide.\n"
     ]
    }
   ],
   "source": [
    "tf.reset_default_graph()\n",
    "single_image, embeddings = load_model(\"D:/mip2019/models/20180402-114759.pb\")\n",
    "sess = tf.Session()\n",
    "%matplotlib inline\n",
    "pnet, rnet, onet = detect_face.create_mtcnn(sess, None)"
   ]
  },
  {
   "cell_type": "code",
   "execution_count": 7,
   "metadata": {},
   "outputs": [],
   "source": [
    "path_myimg = glob.glob(\"D:/mip2019/data/images/me/*\")\n",
    "count = 0\n",
    "for path in path_myimg:\n",
    "    img = load_image(path)\n",
    "    img, bounding_boxes = crop_faces(img, pnet, rnet, onet)\n",
    "    for i in range(len(img)):\n",
    "        img[i] = cv2.cvtColor(img[i], cv2.COLOR_BGR2RGB)\n",
    "        cv2.imwrite(\"D:/mip2019/data/faces/me/faces%d.jpg\" %count,img[i])\n",
    "        count += 1"
   ]
  },
  {
   "cell_type": "code",
   "execution_count": 8,
   "metadata": {},
   "outputs": [],
   "source": [
    "cap = cv2.VideoCapture('D:/mip2019/data/videos/video1.mp4')\n",
    "count = 0\n",
    "while(True):\n",
    "    ret, frame = cap.read()\n",
    "    if ret == False:\n",
    "        break\n",
    "    else:\n",
    "        frame, bounding_boxes_others = crop_faces(frame, pnet, rnet, onet)\n",
    "        for i in range(len(frame)):\n",
    "            cv2.imwrite(\"D:/mip2019/data/faces/others/frame%d.jpg\" %count, frame[i])\n",
    "            count += 1\n",
    "cap.release()"
   ]
  },
  {
   "cell_type": "code",
   "execution_count": 9,
   "metadata": {},
   "outputs": [
    {
     "name": "stdout",
     "output_type": "stream",
     "text": [
      "(246, 512)\n"
     ]
    }
   ],
   "source": [
    "path_me = glob.glob(\"D:/mip2019/data/faces/me/*\")\n",
    "\n",
    "embed_me = []\n",
    "\n",
    "for path in path_me:\n",
    "    img = load_image(path)\n",
    "    result = sess.run(embeddings, feed_dict={single_image:img})\n",
    "    result = result[0]\n",
    "    embed_me.append(result)\n",
    "\n",
    "embed_me = np.array(embed_me)\n",
    "print(embed_me.shape)"
   ]
  },
  {
   "cell_type": "code",
   "execution_count": 10,
   "metadata": {},
   "outputs": [
    {
     "name": "stdout",
     "output_type": "stream",
     "text": [
      "(291, 512)\n"
     ]
    }
   ],
   "source": [
    "path_others = glob.glob(\"D:/mip2019/data/faces/others/*\")\n",
    "\n",
    "embed_others = []\n",
    "\n",
    "for path in path_others:\n",
    "    img = load_image(path)\n",
    "    result = sess.run(embeddings, feed_dict={single_image:img})\n",
    "    result = result[0]\n",
    "    embed_others.append(result)\n",
    "\n",
    "embed_others = np.array(embed_others)\n",
    "print(embed_others.shape)"
   ]
  },
  {
   "cell_type": "code",
   "execution_count": 13,
   "metadata": {},
   "outputs": [
    {
     "data": {
      "image/png": "[encoded data removed]",
      "text/plain": [
       "<Figure size 432x288 with 1 Axes>"
      ]
     },
     "metadata": {
      "needs_background": "light"
     },
     "output_type": "display_data"
    }
   ],
   "source": [
    "all_embeddings = np.concatenate((embed_me, embed_others), axis=0)\n",
    "pca = PCA(n_components=2)\n",
    "\n",
    "pca.fit(all_embeddings)\n",
    "\n",
    "xy_me = pca.transform(embed_me)\n",
    "xy_others = pca.transform(embed_others)\n",
    "\n",
    "ax = plt.figure()\n",
    "\n",
    "sc1 = plt.scatter(xy_me[:,0], xy_me[:,1], color=(1,0,0))\n",
    "sc2 = plt.scatter(xy_others[:,0], xy_others[:,1], color=(0,1,0.4))\n",
    "\n",
    "plt.legend([sc1,sc2],[\"me\",\"others\"], loc=\"upper right\")\n",
    "plt.savefig('embed_dist.jpg')"
   ]
  },
  {
   "cell_type": "code",
   "execution_count": null,
   "metadata": {},
   "outputs": [],
   "source": [
    "cap = cv2.VideoCapture('D:/mip2019/data/videos/video1.mp4')\n",
    "count = 0\n",
    "\n",
    "while(True):\n",
    "    ret, frame = cap.read()\n",
    "    if ret == False:\n",
    "        break\n",
    "    else:\n",
    "        conse = frame.copy()\n",
    "        faces_others, bounding_boxes_others = crop_faces(frame, pnet, rnet, onet)\n",
    "        for i in range(len(faces_others)):\n",
    "            img = faces_others[i]\n",
    "            result = sess.run(embeddings, feed_dict={single_image:img})\n",
    "            result = result[0]\n",
    "            distance_th = 0.18\n",
    "            j = 0\n",
    "            total = 0\n",
    "            for j in range(len(embed_me)):\n",
    "                distance = calc_distance(embed_me[j], result)\n",
    "                total += distance\n",
    "            avg_distance = total / len(embed_me)\n",
    "            box = bounding_boxes_others[i]\n",
    "            box = np.int32(box)\n",
    "            p1 = (box[0], box[1])\n",
    "            p2 = (box[2], box[3])\n",
    "            if(avg_distance < distance_th):\n",
    "                cv2.rectangle(conse, p1, p2, color=(0, 255, 0))\n",
    "            else:\n",
    "                cv2.rectangle(conse, p1, p2, color=(0, 0, 255))\n",
    "        cv2.imwrite(\"D:/mip2019/data/conse/conse%d.jpg\" % count, conse)\n",
    "        count += 1\n",
    "cap.release()"
   ]
  },
  {
   "cell_type": "code",
   "execution_count": 58,
   "metadata": {},
   "outputs": [],
   "source": [
    "import cv2\n",
    "import numpy as np\n",
    "import glob\n",
    "import sys\n",
    "sys.path.append('D:/mip2019/data/conse')\n",
    "img_array = []\n",
    "for filename in glob.glob('D:/mip2019/data/conse/*.jpg'):\n",
    "    img = cv2.imread(filename)\n",
    "    height, width, layers = img.shape\n",
    "    size = (width,height)\n",
    "    img_array.append(img)\n",
    "\n",
    "\n",
    "out = cv2.VideoWriter('conse_face.avi',cv2.VideoWriter_fourcc(*'DIVX'), 15, size)\n",
    " \n",
    "for i in range(len(img_array)):\n",
    "    out.write(img_array[i])\n",
    "out.release()\n",
    "# 실습에 저장됨"
   ]
  }
 ],
 "metadata": {
  "kernelspec": {
   "display_name": "Python 3",
   "language": "python",
   "name": "python3"
  },
  "language_info": {
   "codemirror_mode": {
    "name": "ipython",
    "version": 3
   },
   "file_extension": ".py",
   "mimetype": "text/x-python",
   "name": "python",
   "nbconvert_exporter": "python",
   "pygments_lexer": "ipython3",
   "version": "3.6.8"
  }
 },
 "nbformat": 4,
 "nbformat_minor": 2
}
